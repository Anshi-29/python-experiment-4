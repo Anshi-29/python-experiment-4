{
 "cells": [
  {
   "cell_type": "code",
   "execution_count": 7,
   "metadata": {},
   "outputs": [
    {
     "name": "stdout",
     "output_type": "stream",
     "text": [
      "Dataset preview\n",
      "   StudentID  Gender  Age  StudyHoursPerWeek  AttendanceRate   GPA      Major  \\\n",
      "0          1    Male   24                 37           90.75  3.47       Arts   \n",
      "1          2  Female   22                 37           74.90  2.32  Education   \n",
      "2          3    Male   22                 10           53.36  2.38   Business   \n",
      "3          4    Male   24                 10           70.26  3.46    Science   \n",
      "4          5    Male   18                 19           74.87  2.31  Education   \n",
      "\n",
      "  PartTimeJob ExtraCurricularActivities  \n",
      "0         Yes                        No  \n",
      "1          No                        No  \n",
      "2          No                        No  \n",
      "3         Yes                        No  \n",
      "4         Yes                        No  \n",
      "\n",
      " missing values in each column\n",
      "StudentID                    0\n",
      "Gender                       0\n",
      "Age                          0\n",
      "StudyHoursPerWeek            0\n",
      "AttendanceRate               0\n",
      "GPA                          0\n",
      "Major                        0\n",
      "PartTimeJob                  0\n",
      "ExtraCurricularActivities    0\n",
      "dtype: int64\n"
     ]
    }
   ],
   "source": [
    "import pandas as pd\n",
    "data = pd.read_csv(\"student_performance_data.csv\")\n",
    "print(\"Dataset preview\")\n",
    "print(data.head())\n",
    "missing_values = data.isnull().sum()\n",
    "print(\"\\n missing values in each column\") \n",
    "print(missing_values)\n",
    "\n"
   ]
  },
  {
   "cell_type": "code",
   "execution_count": 8,
   "metadata": {},
   "outputs": [
    {
     "name": "stdout",
     "output_type": "stream",
     "text": [
      "Missing Values in the Dataset (True indicates missing):\n",
      "     StudentID  Gender    Age  StudyHoursPerWeek  AttendanceRate    GPA  \\\n",
      "0        False   False  False              False           False  False   \n",
      "1        False   False  False              False           False  False   \n",
      "2        False   False  False              False           False  False   \n",
      "3        False   False  False              False           False  False   \n",
      "4        False   False  False              False           False  False   \n",
      "..         ...     ...    ...                ...             ...    ...   \n",
      "495      False   False  False              False           False  False   \n",
      "496      False   False  False              False           False  False   \n",
      "497      False   False  False              False           False  False   \n",
      "498      False   False  False              False           False  False   \n",
      "499      False   False  False              False           False  False   \n",
      "\n",
      "     Major  PartTimeJob  ExtraCurricularActivities  \n",
      "0    False        False                      False  \n",
      "1    False        False                      False  \n",
      "2    False        False                      False  \n",
      "3    False        False                      False  \n",
      "4    False        False                      False  \n",
      "..     ...          ...                        ...  \n",
      "495  False        False                      False  \n",
      "496  False        False                      False  \n",
      "497  False        False                      False  \n",
      "498  False        False                      False  \n",
      "499  False        False                      False  \n",
      "\n",
      "[500 rows x 9 columns]\n"
     ]
    }
   ],
   "source": [
    "\n",
    "missing_values_df = data.isnull()\n",
    "print(\"Missing Values in the Dataset (True indicates missing):\")\n",
    "print(missing_values_df)"
   ]
  },
  {
   "cell_type": "code",
   "execution_count": 9,
   "metadata": {},
   "outputs": [
    {
     "name": "stdout",
     "output_type": "stream",
     "text": [
      "\n",
      "Non-Missing Values in the Dataset (True indicates non-missing):\n",
      "     StudentID  Gender   Age  StudyHoursPerWeek  AttendanceRate   GPA  Major  \\\n",
      "0         True    True  True               True            True  True   True   \n",
      "1         True    True  True               True            True  True   True   \n",
      "2         True    True  True               True            True  True   True   \n",
      "3         True    True  True               True            True  True   True   \n",
      "4         True    True  True               True            True  True   True   \n",
      "..         ...     ...   ...                ...             ...   ...    ...   \n",
      "495       True    True  True               True            True  True   True   \n",
      "496       True    True  True               True            True  True   True   \n",
      "497       True    True  True               True            True  True   True   \n",
      "498       True    True  True               True            True  True   True   \n",
      "499       True    True  True               True            True  True   True   \n",
      "\n",
      "     PartTimeJob  ExtraCurricularActivities  \n",
      "0           True                       True  \n",
      "1           True                       True  \n",
      "2           True                       True  \n",
      "3           True                       True  \n",
      "4           True                       True  \n",
      "..           ...                        ...  \n",
      "495         True                       True  \n",
      "496         True                       True  \n",
      "497         True                       True  \n",
      "498         True                       True  \n",
      "499         True                       True  \n",
      "\n",
      "[500 rows x 9 columns]\n"
     ]
    }
   ],
   "source": [
    "\n",
    "non_missing_values_df = data.notnull()\n",
    "print(\"\\nNon-Missing Values in the Dataset (True indicates non-missing):\")\n",
    "print(non_missing_values_df)\n"
   ]
  },
  {
   "cell_type": "code",
   "execution_count": 10,
   "metadata": {},
   "outputs": [
    {
     "name": "stdout",
     "output_type": "stream",
     "text": [
      "Data after filling missing values with 0:\n",
      "     StudentID  Gender  Age  StudyHoursPerWeek  AttendanceRate   GPA  \\\n",
      "0            1    Male   24                 37           90.75  3.47   \n",
      "1            2  Female   22                 37           74.90  2.32   \n",
      "2            3    Male   22                 10           53.36  2.38   \n",
      "3            4    Male   24                 10           70.26  3.46   \n",
      "4            5    Male   18                 19           74.87  2.31   \n",
      "..         ...     ...  ...                ...             ...   ...   \n",
      "495        496    Male   22                 37           76.61  2.97   \n",
      "496        497    Male   23                 11           56.29  3.20   \n",
      "497        498  Female   20                  6           56.64  3.20   \n",
      "498        499    Male   22                 18           57.18  2.05   \n",
      "499        500  Female   24                 21           96.99  2.64   \n",
      "\n",
      "           Major PartTimeJob ExtraCurricularActivities  \n",
      "0           Arts         Yes                        No  \n",
      "1      Education          No                        No  \n",
      "2       Business          No                        No  \n",
      "3        Science         Yes                        No  \n",
      "4      Education         Yes                        No  \n",
      "..           ...         ...                       ...  \n",
      "495      Science          No                        No  \n",
      "496      Science          No                        No  \n",
      "497      Science          No                       Yes  \n",
      "498     Business          No                       Yes  \n",
      "499  Engineering          No                        No  \n",
      "\n",
      "[500 rows x 9 columns]\n",
      "\n",
      "Data after filling missing values with the mean:\n",
      "     StudentID  Gender  Age  StudyHoursPerWeek  AttendanceRate   GPA  \\\n",
      "0            1    Male   24                 37           90.75  3.47   \n",
      "1            2  Female   22                 37           74.90  2.32   \n",
      "2            3    Male   22                 10           53.36  2.38   \n",
      "3            4    Male   24                 10           70.26  3.46   \n",
      "4            5    Male   18                 19           74.87  2.31   \n",
      "..         ...     ...  ...                ...             ...   ...   \n",
      "495        496    Male   22                 37           76.61  2.97   \n",
      "496        497    Male   23                 11           56.29  3.20   \n",
      "497        498  Female   20                  6           56.64  3.20   \n",
      "498        499    Male   22                 18           57.18  2.05   \n",
      "499        500  Female   24                 21           96.99  2.64   \n",
      "\n",
      "           Major PartTimeJob ExtraCurricularActivities  \n",
      "0           Arts         Yes                        No  \n",
      "1      Education          No                        No  \n",
      "2       Business          No                        No  \n",
      "3        Science         Yes                        No  \n",
      "4      Education         Yes                        No  \n",
      "..           ...         ...                       ...  \n",
      "495      Science          No                        No  \n",
      "496      Science          No                        No  \n",
      "497      Science          No                       Yes  \n",
      "498     Business          No                       Yes  \n",
      "499  Engineering          No                        No  \n",
      "\n",
      "[500 rows x 9 columns]\n"
     ]
    }
   ],
   "source": [
    "\n",
    "filled_df = data.fillna(0)\n",
    "print(\"Data after filling missing values with 0:\")\n",
    "print(filled_df)\n",
    "filled_with_mean_df = data.fillna(data.mean(numeric_only=True))\n",
    "print(\"\\nData after filling missing values with the mean:\")\n",
    "print(filled_with_mean_df)\n",
    "\n",
    "\n"
   ]
  },
  {
   "cell_type": "code",
   "execution_count": 11,
   "metadata": {},
   "outputs": [
    {
     "name": "stdout",
     "output_type": "stream",
     "text": [
      "\n",
      "Data after dropping rows with any missing values:\n",
      "     StudentID  Gender  Age  StudyHoursPerWeek  AttendanceRate   GPA  \\\n",
      "0            1    Male   24                 37           90.75  3.47   \n",
      "1            2  Female   22                 37           74.90  2.32   \n",
      "2            3    Male   22                 10           53.36  2.38   \n",
      "3            4    Male   24                 10           70.26  3.46   \n",
      "4            5    Male   18                 19           74.87  2.31   \n",
      "..         ...     ...  ...                ...             ...   ...   \n",
      "495        496    Male   22                 37           76.61  2.97   \n",
      "496        497    Male   23                 11           56.29  3.20   \n",
      "497        498  Female   20                  6           56.64  3.20   \n",
      "498        499    Male   22                 18           57.18  2.05   \n",
      "499        500  Female   24                 21           96.99  2.64   \n",
      "\n",
      "           Major PartTimeJob ExtraCurricularActivities  \n",
      "0           Arts         Yes                        No  \n",
      "1      Education          No                        No  \n",
      "2       Business          No                        No  \n",
      "3        Science         Yes                        No  \n",
      "4      Education         Yes                        No  \n",
      "..           ...         ...                       ...  \n",
      "495      Science          No                        No  \n",
      "496      Science          No                        No  \n",
      "497      Science          No                       Yes  \n",
      "498     Business          No                       Yes  \n",
      "499  Engineering          No                        No  \n",
      "\n",
      "[500 rows x 9 columns]\n",
      "\n",
      "Data after dropping columns with any missing values:\n",
      "     StudentID  Gender  Age  StudyHoursPerWeek  AttendanceRate   GPA  \\\n",
      "0            1    Male   24                 37           90.75  3.47   \n",
      "1            2  Female   22                 37           74.90  2.32   \n",
      "2            3    Male   22                 10           53.36  2.38   \n",
      "3            4    Male   24                 10           70.26  3.46   \n",
      "4            5    Male   18                 19           74.87  2.31   \n",
      "..         ...     ...  ...                ...             ...   ...   \n",
      "495        496    Male   22                 37           76.61  2.97   \n",
      "496        497    Male   23                 11           56.29  3.20   \n",
      "497        498  Female   20                  6           56.64  3.20   \n",
      "498        499    Male   22                 18           57.18  2.05   \n",
      "499        500  Female   24                 21           96.99  2.64   \n",
      "\n",
      "           Major PartTimeJob ExtraCurricularActivities  \n",
      "0           Arts         Yes                        No  \n",
      "1      Education          No                        No  \n",
      "2       Business          No                        No  \n",
      "3        Science         Yes                        No  \n",
      "4      Education         Yes                        No  \n",
      "..           ...         ...                       ...  \n",
      "495      Science          No                        No  \n",
      "496      Science          No                        No  \n",
      "497      Science          No                       Yes  \n",
      "498     Business          No                       Yes  \n",
      "499  Engineering          No                        No  \n",
      "\n",
      "[500 rows x 9 columns]\n",
      "\n",
      "Data after dropping rows where all values are missing:\n",
      "     StudentID  Gender  Age  StudyHoursPerWeek  AttendanceRate   GPA  \\\n",
      "0            1    Male   24                 37           90.75  3.47   \n",
      "1            2  Female   22                 37           74.90  2.32   \n",
      "2            3    Male   22                 10           53.36  2.38   \n",
      "3            4    Male   24                 10           70.26  3.46   \n",
      "4            5    Male   18                 19           74.87  2.31   \n",
      "..         ...     ...  ...                ...             ...   ...   \n",
      "495        496    Male   22                 37           76.61  2.97   \n",
      "496        497    Male   23                 11           56.29  3.20   \n",
      "497        498  Female   20                  6           56.64  3.20   \n",
      "498        499    Male   22                 18           57.18  2.05   \n",
      "499        500  Female   24                 21           96.99  2.64   \n",
      "\n",
      "           Major PartTimeJob ExtraCurricularActivities  \n",
      "0           Arts         Yes                        No  \n",
      "1      Education          No                        No  \n",
      "2       Business          No                        No  \n",
      "3        Science         Yes                        No  \n",
      "4      Education         Yes                        No  \n",
      "..           ...         ...                       ...  \n",
      "495      Science          No                        No  \n",
      "496      Science          No                        No  \n",
      "497      Science          No                       Yes  \n",
      "498     Business          No                       Yes  \n",
      "499  Engineering          No                        No  \n",
      "\n",
      "[500 rows x 9 columns]\n"
     ]
    }
   ],
   "source": [
    "# Drop rows with any missing values\n",
    "dropped_rows_df = data.dropna()\n",
    "print(\"\\nData after dropping rows with any missing values:\")\n",
    "print(dropped_rows_df)\n",
    "#\n",
    "# Drop columns with any missing values\n",
    "dropped_columns_df = data.dropna(axis=1)\n",
    "print(\"\\nData after dropping columns with any missing values:\")\n",
    "print(dropped_columns_df)\n",
    "\n",
    "# Drop rows where all values are missing\n",
    "dropped_all_missing_rows_df = data.dropna(how='all')\n",
    "print(\"\\nData after dropping rows where all values are missing:\")\n",
    "print(dropped_all_missing_rows_df)\n",
    "\n",
    "\n"
   ]
  },
  {
   "cell_type": "code",
   "execution_count": 12,
   "metadata": {},
   "outputs": [
    {
     "name": "stdout",
     "output_type": "stream",
     "text": [
      "\n",
      "Data after replacing NaN with 999:\n",
      "     StudentID  Gender  Age  StudyHoursPerWeek  AttendanceRate   GPA  \\\n",
      "0            1    Male   24                 37           90.75  3.47   \n",
      "1            2  Female   22                 37           74.90  2.32   \n",
      "2            3    Male   22                 10           53.36  2.38   \n",
      "3            4    Male   24                 10           70.26  3.46   \n",
      "4            5    Male   18                 19           74.87  2.31   \n",
      "..         ...     ...  ...                ...             ...   ...   \n",
      "495        496    Male   22                 37           76.61  2.97   \n",
      "496        497    Male   23                 11           56.29  3.20   \n",
      "497        498  Female   20                  6           56.64  3.20   \n",
      "498        499    Male   22                 18           57.18  2.05   \n",
      "499        500  Female   24                 21           96.99  2.64   \n",
      "\n",
      "           Major PartTimeJob ExtraCurricularActivities  \n",
      "0           Arts         Yes                        No  \n",
      "1      Education          No                        No  \n",
      "2       Business          No                        No  \n",
      "3        Science         Yes                        No  \n",
      "4      Education         Yes                        No  \n",
      "..           ...         ...                       ...  \n",
      "495      Science          No                        No  \n",
      "496      Science          No                        No  \n",
      "497      Science          No                       Yes  \n",
      "498     Business          No                       Yes  \n",
      "499  Engineering          No                        No  \n",
      "\n",
      "[500 rows x 9 columns]\n",
      "\n",
      "Data after replacing specific values:\n",
      "     StudentID  Gender  Age  StudyHoursPerWeek  AttendanceRate   GPA  \\\n",
      "0            1    Male   24                 37           90.75  3.47   \n",
      "1            2  Female   22                 37           74.90  2.32   \n",
      "2            3    Male   22                 10           53.36  2.38   \n",
      "3            4    Male   24                 10           70.26  3.46   \n",
      "4            5    Male   18                 19           74.87  2.31   \n",
      "..         ...     ...  ...                ...             ...   ...   \n",
      "495        496    Male   22                 37           76.61  2.97   \n",
      "496        497    Male   23                 11           56.29  3.20   \n",
      "497        498  Female   20                  6           56.64  3.20   \n",
      "498        499    Male   22                 18           57.18  2.05   \n",
      "499        500  Female   24                 21           96.99  2.64   \n",
      "\n",
      "           Major PartTimeJob ExtraCurricularActivities  \n",
      "0           Arts         Yes                        No  \n",
      "1      Education          No                        No  \n",
      "2       Business          No                        No  \n",
      "3        Science         Yes                        No  \n",
      "4      Education         Yes                        No  \n",
      "..           ...         ...                       ...  \n",
      "495      Science          No                        No  \n",
      "496      Science          No                        No  \n",
      "497      Science          No                       Yes  \n",
      "498     Business          No                       Yes  \n",
      "499  Engineering          No                        No  \n",
      "\n",
      "[500 rows x 9 columns]\n"
     ]
    }
   ],
   "source": [
    "\n",
    "replaced_df = data.replace(to_replace=pd.NA, value=999)\n",
    "print(\"\\nData after replacing NaN with 999:\")\n",
    "print(replaced_df)\n",
    "replaced_specific_df = data.replace({'old_value': 'new_value'})\n",
    "print(\"\\nData after replacing specific values:\")\n",
    "print(replaced_specific_df)\n",
    "print(\" Data after replacing specific values in the dataset are described in the below dataset\")\n"
   ]
  },
  {
   "cell_type": "code",
   "execution_count": 13,
   "metadata": {},
   "outputs": [
    {
     "name": "stdout",
     "output_type": "stream",
     "text": [
      "Index(['StudentID', 'Gender', 'Age', 'StudyHoursPerWeek', 'AttendanceRate',\n",
      "       'GPA', 'Major', 'PartTimeJob', 'ExtraCurricularActivities'],\n",
      "      dtype='object')\n"
     ]
    }
   ],
   "source": [
    "print(data.columns)"
   ]
  },
  {
   "cell_type": "code",
   "execution_count": 14,
   "metadata": {},
   "outputs": [
    {
     "name": "stdout",
     "output_type": "stream",
     "text": [
      "\n",
      "DataFrame after interpolation:\n",
      "     StudentID  Gender  Age  StudyHoursPerWeek  AttendanceRate   GPA  \\\n",
      "0            1    Male   24                 37           90.75  3.47   \n",
      "1            2  Female   22                 37           74.90  2.32   \n",
      "2            3    Male   22                 10           53.36  2.38   \n",
      "3            4    Male   24                 10           70.26  3.46   \n",
      "4            5    Male   18                 19           74.87  2.31   \n",
      "..         ...     ...  ...                ...             ...   ...   \n",
      "495        496    Male   22                 37           76.61  2.97   \n",
      "496        497    Male   23                 11           56.29  3.20   \n",
      "497        498  Female   20                  6           56.64  3.20   \n",
      "498        499    Male   22                 18           57.18  2.05   \n",
      "499        500  Female   24                 21           96.99  2.64   \n",
      "\n",
      "           Major PartTimeJob ExtraCurricularActivities  \n",
      "0           Arts         Yes                        No  \n",
      "1      Education          No                        No  \n",
      "2       Business          No                        No  \n",
      "3        Science         Yes                        No  \n",
      "4      Education         Yes                        No  \n",
      "..           ...         ...                       ...  \n",
      "495      Science          No                        No  \n",
      "496      Science          No                        No  \n",
      "497      Science          No                       Yes  \n",
      "498     Business          No                       Yes  \n",
      "499  Engineering          No                        No  \n",
      "\n",
      "[500 rows x 9 columns]\n"
     ]
    },
    {
     "name": "stderr",
     "output_type": "stream",
     "text": [
      "C:\\Users\\AYUSH CHOUDHARY\\AppData\\Local\\Temp\\ipykernel_17480\\3874776429.py:2: FutureWarning: DataFrame.interpolate with object dtype is deprecated and will raise in a future version. Call obj.infer_objects(copy=False) before interpolating instead.\n",
      "  df_interpolated = data.interpolate(method='linear')\n"
     ]
    }
   ],
   "source": [
    "# Linear interpolation\n",
    "df_interpolated = data.interpolate(method='linear')\n",
    "print(\"\\nDataFrame after interpolation:\")\n",
    "print(df_interpolated)"
   ]
  },
  {
   "cell_type": "code",
   "execution_count": 17,
   "metadata": {},
   "outputs": [
    {
     "name": "stdout",
     "output_type": "stream",
     "text": [
      "\n",
      "Unique names:\n",
      "[3.47 2.32 2.38 3.46 2.31 2.47 3.93 2.51 3.32 3.96 2.75 2.04 2.49 3.66\n",
      " 3.73 3.54 2.23 3.59 3.84 3.2  3.88 3.65 3.33 3.15 2.7  3.21 2.64 3.99\n",
      " 3.5  2.18 2.58 2.22 3.3  3.53 3.85 2.88 3.8  3.76 2.63 3.74 2.59 2.66\n",
      " 3.26 3.22 3.13 2.76 3.1  3.19 3.09 2.89 2.03 3.17 2.34 3.29 3.52 3.\n",
      " 3.08 3.9  3.69 3.83 3.63 2.3  3.05 2.95 2.79 3.49 3.43 3.04 3.64 2.86\n",
      " 3.79 2.14 3.91 3.31 2.39 2.96 2.33 3.23 3.34 3.86 3.06 3.16 3.44 2.8\n",
      " 3.95 2.25 3.72 3.6  2.37 2.85 2.17 2.01 3.28 3.03 2.35 2.72 3.81 3.11\n",
      " 2.6  3.7  3.62 3.07 2.36 2.62 2.46 2.41 2.12 2.28 2.55 3.35 3.45 2.68\n",
      " 2.67 3.55 2.53 2.73 2.69 2.54 3.36 2.91 2.1  3.92 3.27 3.51 2.82 2.\n",
      " 2.77 2.24 2.19 3.58 3.01 2.13 2.45 2.48 3.02 2.56 3.75 3.57 2.78 2.42\n",
      " 2.65 2.05 3.87 2.16 2.97 3.24 2.15 3.38 2.44 2.81 2.71 2.5  2.27 2.84\n",
      " 3.67 2.4  2.09 2.74 2.2  3.89 3.56 2.99 2.9  3.78 2.21 3.98 2.08 2.07\n",
      " 2.92 3.94 2.02 2.52 3.12 2.11 3.37 2.98 2.83 2.87 3.48 3.68 2.94 2.43\n",
      " 2.06 3.41]\n",
      "\n",
      "Unique ages:\n",
      "[24 22 18 20 19 23 21]\n",
      "\n",
      "Unique values in the entire DataFrame:\n",
      "[1 'Male' 24 ... 57.18 500 96.99]\n"
     ]
    }
   ],
   "source": [
    "# Find unique values in a specific column\n",
    "unique_gpa = data['GPA'].unique()\n",
    "unique_ages = data['Age'].unique()\n",
    "\n",
    "print(\"\\nUnique names:\")\n",
    "print(unique_gpa)\n",
    "\n",
    "print(\"\\nUnique ages:\")\n",
    "print(unique_ages)\n",
    "unique_values = pd.unique(data.values.ravel())\n",
    "print(\"\\nUnique values in the entire DataFrame:\")\n",
    "print(unique_values)"
   ]
  },
  {
   "cell_type": "code",
   "execution_count": 18,
   "metadata": {},
   "outputs": [
    {
     "name": "stdout",
     "output_type": "stream",
     "text": [
      "\n",
      "DataFrame with Encoded Columns:\n",
      "     StudentID  Gender  Age  StudyHoursPerWeek  AttendanceRate   GPA  \\\n",
      "0            1    Male   24                 37           90.75  3.47   \n",
      "1            2  Female   22                 37           74.90  2.32   \n",
      "2            3    Male   22                 10           53.36  2.38   \n",
      "3            4    Male   24                 10           70.26  3.46   \n",
      "4            5    Male   18                 19           74.87  2.31   \n",
      "..         ...     ...  ...                ...             ...   ...   \n",
      "495        496    Male   22                 37           76.61  2.97   \n",
      "496        497    Male   23                 11           56.29  3.20   \n",
      "497        498  Female   20                  6           56.64  3.20   \n",
      "498        499    Male   22                 18           57.18  2.05   \n",
      "499        500  Female   24                 21           96.99  2.64   \n",
      "\n",
      "           Major PartTimeJob  ExtraCurricularActivities  \n",
      "0           Arts         Yes                          0  \n",
      "1      Education          No                          1  \n",
      "2       Business          No                          2  \n",
      "3        Science         Yes                          3  \n",
      "4      Education         Yes                          4  \n",
      "..           ...         ...                        ...  \n",
      "495      Science          No                        495  \n",
      "496      Science          No                        496  \n",
      "497      Science          No                        497  \n",
      "498     Business          No                        498  \n",
      "499  Engineering          No                        499  \n",
      "\n",
      "[500 rows x 9 columns]\n"
     ]
    }
   ],
   "source": [
    "import pandas as pd\n",
    "from sklearn.preprocessing import LabelEncoder\n",
    "label_encoder = LabelEncoder()\n",
    "data['ExtraCurricularActivities'] =label_encoder.fit_transform(data['StudentID'])\n",
    "print(\"\\nDataFrame with Encoded Columns:\")\n",
    "print(data) \n"
   ]
  },
  {
   "cell_type": "code",
   "execution_count": 27,
   "metadata": {},
   "outputs": [
    {
     "name": "stdout",
     "output_type": "stream",
     "text": [
      "shape of the data (500, 9)\n"
     ]
    }
   ],
   "source": [
    "shape = data.shape\n",
    "print(\"shape of the data\",shape)"
   ]
  },
  {
   "cell_type": "code",
   "execution_count": 19,
   "metadata": {},
   "outputs": [
    {
     "name": "stdout",
     "output_type": "stream",
     "text": [
      "<class 'pandas.core.frame.DataFrame'>\n",
      "RangeIndex: 500 entries, 0 to 499\n",
      "Data columns (total 9 columns):\n",
      " #   Column                     Non-Null Count  Dtype  \n",
      "---  ------                     --------------  -----  \n",
      " 0   StudentID                  500 non-null    int64  \n",
      " 1   Gender                     500 non-null    object \n",
      " 2   Age                        500 non-null    int64  \n",
      " 3   StudyHoursPerWeek          500 non-null    int64  \n",
      " 4   AttendanceRate             500 non-null    float64\n",
      " 5   GPA                        500 non-null    float64\n",
      " 6   Major                      500 non-null    object \n",
      " 7   PartTimeJob                500 non-null    object \n",
      " 8   ExtraCurricularActivities  500 non-null    int64  \n",
      "dtypes: float64(2), int64(4), object(3)\n",
      "memory usage: 35.3+ KB\n"
     ]
    }
   ],
   "source": [
    "data.info()"
   ]
  },
  {
   "cell_type": "code",
   "execution_count": 31,
   "metadata": {},
   "outputs": [
    {
     "name": "stdout",
     "output_type": "stream",
     "text": [
      "<class 'pandas.core.series.Series'>\n",
      "RangeIndex: 500 entries, 0 to 499\n",
      "Series name: StudentID\n",
      "Non-Null Count  Dtype\n",
      "--------------  -----\n",
      "500 non-null    int64\n",
      "dtypes: int64(1)\n",
      "memory usage: 4.0 KB\n"
     ]
    }
   ],
   "source": [
    "data['StudentID'].info()  \n"
   ]
  }
 ],
 "metadata": {
  "kernelspec": {
   "display_name": "base",
   "language": "python",
   "name": "python3"
  },
  "language_info": {
   "codemirror_mode": {
    "name": "ipython",
    "version": 3
   },
   "file_extension": ".py",
   "mimetype": "text/x-python",
   "name": "python",
   "nbconvert_exporter": "python",
   "pygments_lexer": "ipython3",
   "version": "3.12.4"
  }
 },
 "nbformat": 4,
 "nbformat_minor": 2
}
